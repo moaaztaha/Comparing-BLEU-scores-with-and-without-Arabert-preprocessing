{
 "cells": [
  {
   "cell_type": "code",
   "execution_count": 1,
   "id": "fc2b962d",
   "metadata": {},
   "outputs": [
    {
     "name": "stderr",
     "output_type": "stream",
     "text": [
      "[2022-02-19 13:28:24,646 - farasapy_logger - WARNING]: Be careful with large lines as they may break on interactive mode. You may switch to Standalone mode for such cases.\n"
     ]
    }
   ],
   "source": [
    "# Modules\n",
    "import ipywidgets as widgets\n",
    "from ipywidgets import interact_manual\n",
    "import matplotlib.pyplot as plt\n",
    "import pandas as pd\n",
    "\n",
    "# needed to use matplotlib with jupyter widgets\n",
    "%matplotlib notebook\n",
    "\n",
    "from IPython.display import display, clear_output, Image\n",
    "import warnings\n",
    "warnings.filterwarnings(\"ignore\")\n",
    "\n",
    "from utils import calculate_scores\n",
    "%matplotlib inline"
   ]
  },
  {
   "cell_type": "code",
   "execution_count": 2,
   "id": "932aa5c1",
   "metadata": {},
   "outputs": [],
   "source": [
    "# test sample of 200 image\n",
    "DATA_PATH = 'images_200/'\n",
    "DF_PATH = 'sm_ar_data.json'\n",
    "full_df = pd.read_json('results_comparison_200.json')"
   ]
  },
  {
   "cell_type": "code",
   "execution_count": 3,
   "id": "ebfe25ae",
   "metadata": {},
   "outputs": [],
   "source": [
    "z=0"
   ]
  },
  {
   "cell_type": "code",
   "execution_count": 4,
   "id": "a9398293",
   "metadata": {},
   "outputs": [
    {
     "data": {
      "text/html": [
       "<div>\n",
       "<style scoped>\n",
       "    .dataframe tbody tr th:only-of-type {\n",
       "        vertical-align: middle;\n",
       "    }\n",
       "\n",
       "    .dataframe tbody tr th {\n",
       "        vertical-align: top;\n",
       "    }\n",
       "\n",
       "    .dataframe thead th {\n",
       "        text-align: right;\n",
       "    }\n",
       "</style>\n",
       "<table border=\"1\" class=\"dataframe\">\n",
       "  <thead>\n",
       "    <tr style=\"text-align: right;\">\n",
       "      <th></th>\n",
       "      <th>old_hypotheses</th>\n",
       "      <th>old_tok_len</th>\n",
       "      <th>hypotheses</th>\n",
       "      <th>tok_len</th>\n",
       "      <th>old_captions</th>\n",
       "      <th>captions</th>\n",
       "    </tr>\n",
       "  </thead>\n",
       "  <tbody>\n",
       "    <tr>\n",
       "      <th>0</th>\n",
       "      <td>[رجل, يرتدي, سترة, صفراء]</td>\n",
       "      <td>4</td>\n",
       "      <td>[امرأ, +, ة, في, ال, +, شارع]</td>\n",
       "      <td>7</td>\n",
       "      <td>رجل يرتدي سترة صفراء</td>\n",
       "      <td>امرأة في الشارع</td>\n",
       "    </tr>\n",
       "  </tbody>\n",
       "</table>\n",
       "</div>"
      ],
      "text/plain": [
       "              old_hypotheses  old_tok_len                     hypotheses  \\\n",
       "0  [رجل, يرتدي, سترة, صفراء]            4  [امرأ, +, ة, في, ال, +, شارع]   \n",
       "\n",
       "   tok_len          old_captions         captions  \n",
       "0        7  رجل يرتدي سترة صفراء  امرأة في الشارع  "
      ]
     },
     "execution_count": 4,
     "metadata": {},
     "output_type": "execute_result"
    }
   ],
   "source": [
    "full_df.iloc[z:z+1].drop('file_name', axis=1)"
   ]
  },
  {
   "cell_type": "code",
   "execution_count": 5,
   "id": "7db9c6d1",
   "metadata": {},
   "outputs": [
    {
     "data": {
      "text/html": [
       "<div>\n",
       "<style scoped>\n",
       "    .dataframe tbody tr th:only-of-type {\n",
       "        vertical-align: middle;\n",
       "    }\n",
       "\n",
       "    .dataframe tbody tr th {\n",
       "        vertical-align: top;\n",
       "    }\n",
       "\n",
       "    .dataframe thead th {\n",
       "        text-align: right;\n",
       "    }\n",
       "</style>\n",
       "<table border=\"1\" class=\"dataframe\">\n",
       "  <thead>\n",
       "    <tr style=\"text-align: right;\">\n",
       "      <th></th>\n",
       "      <th>Exp</th>\n",
       "      <th>b1</th>\n",
       "      <th>b2</th>\n",
       "      <th>b3</th>\n",
       "      <th>b4</th>\n",
       "      <th>caption</th>\n",
       "    </tr>\n",
       "  </thead>\n",
       "  <tbody>\n",
       "    <tr>\n",
       "      <th>0</th>\n",
       "      <td>old processing, old results</td>\n",
       "      <td>9.197</td>\n",
       "      <td>0.0</td>\n",
       "      <td>0.0</td>\n",
       "      <td>0.0</td>\n",
       "      <td>الناس يعبرون الشارع في بلدة صينية مزدحمة.</td>\n",
       "    </tr>\n",
       "    <tr>\n",
       "      <th>1</th>\n",
       "      <td>new processing, new results</td>\n",
       "      <td>27.645</td>\n",
       "      <td>27.645</td>\n",
       "      <td>25.664</td>\n",
       "      <td>21.986</td>\n",
       "      <td>شخص يحمل مظلة صفراء يمشي بالقرب من الرصيف.</td>\n",
       "    </tr>\n",
       "    <tr>\n",
       "      <th>2</th>\n",
       "      <td>new processing, old results</td>\n",
       "      <td>9.444</td>\n",
       "      <td>8.447</td>\n",
       "      <td>6.958</td>\n",
       "      <td>0.0</td>\n",
       "      <td>شخص في الشارع  يجر عربة تسوق  ويحمل مظلة.</td>\n",
       "    </tr>\n",
       "    <tr>\n",
       "      <th>3</th>\n",
       "      <td>old processing, new results</td>\n",
       "      <td>18.888</td>\n",
       "      <td>18.888</td>\n",
       "      <td>0.0</td>\n",
       "      <td>0.0</td>\n",
       "      <td>امرأة في شارع مزدحم مع عربة تسوق ومظلة.</td>\n",
       "    </tr>\n",
       "    <tr>\n",
       "      <th>4</th>\n",
       "      <td>_</td>\n",
       "      <td>_</td>\n",
       "      <td>_</td>\n",
       "      <td>_</td>\n",
       "      <td>_</td>\n",
       "      <td>أشخاص يسيرون وسيارات تسير في شارع بجوار متاجر</td>\n",
       "    </tr>\n",
       "  </tbody>\n",
       "</table>\n",
       "</div>"
      ],
      "text/plain": [
       "                           Exp      b1      b2      b3      b4  \\\n",
       "0  old processing, old results   9.197     0.0     0.0     0.0   \n",
       "1  new processing, new results  27.645  27.645  25.664  21.986   \n",
       "2  new processing, old results   9.444   8.447   6.958     0.0   \n",
       "3  old processing, new results  18.888  18.888     0.0     0.0   \n",
       "4                            _       _       _       _       _   \n",
       "\n",
       "                                         caption  \n",
       "0      الناس يعبرون الشارع في بلدة صينية مزدحمة.  \n",
       "1     شخص يحمل مظلة صفراء يمشي بالقرب من الرصيف.  \n",
       "2      شخص في الشارع  يجر عربة تسوق  ويحمل مظلة.  \n",
       "3        امرأة في شارع مزدحم مع عربة تسوق ومظلة.  \n",
       "4  أشخاص يسيرون وسيارات تسير في شارع بجوار متاجر  "
      ]
     },
     "execution_count": 5,
     "metadata": {},
     "output_type": "execute_result"
    }
   ],
   "source": [
    "calculate_scores(full_df.iloc[z], DF_PATH)"
   ]
  },
  {
   "cell_type": "code",
   "execution_count": 6,
   "id": "fe4d4302",
   "metadata": {},
   "outputs": [],
   "source": [
    "row = full_df.iloc[z]"
   ]
  },
  {
   "cell_type": "code",
   "execution_count": 7,
   "id": "3c3a51cb",
   "metadata": {},
   "outputs": [
    {
     "name": "stderr",
     "output_type": "stream",
     "text": [
      "[2022-02-19 13:28:27,261 - farasapy_logger - WARNING]: Be careful with large lines as they may break on interactive mode. You may switch to Standalone mode for such cases.\n"
     ]
    }
   ],
   "source": [
    "import pandas as pd\n",
    "from nltk.translate.bleu_score import corpus_bleu\n",
    "from arabert.preprocess import ArabertPreprocessor\n",
    "import pyarabic.araby as araby\n",
    "from utils import print_scores\n",
    "\n",
    "model_name = \"aubmindlab/bert-base-arabertv2\"\n",
    "arabert_prep = ArabertPreprocessor(model_name=model_name)"
   ]
  },
  {
   "cell_type": "code",
   "execution_count": 8,
   "id": "15715847",
   "metadata": {},
   "outputs": [],
   "source": [
    "# the details of calculate scores\n",
    "df = pd.read_json(DF_PATH)\n",
    "ground_truth = df[df['split'] == 'test'].drop(['split', 'tokens', 'tok_len'], axis=1)\n",
    "\n",
    "# get ground truth \n",
    "gt = ground_truth[ground_truth.file_name == row['file_name']].caption.values\n",
    "\n",
    "# tokenize truth\n",
    "old_tokens_truth = [araby.tokenize(i) for i in gt]\n",
    "ara_tokens_truth = [araby.tokenize(arabert_prep.preprocess(i)) for i in gt]"
   ]
  },
  {
   "cell_type": "code",
   "execution_count": 29,
   "id": "1098d4f5",
   "metadata": {},
   "outputs": [],
   "source": [
    "# reverse scores\n",
    "old_hypo_with_old = row['old_hypotheses']\n",
    "old_hypo_with_ara = araby.tokenize(arabert_prep.preprocess(row['old_captions']))\n",
    "ara_hypo_with_old = araby.tokenize(row['captions'])\n",
    "ara_hypo_with_ara = row['hypotheses']"
   ]
  },
  {
   "cell_type": "code",
   "execution_count": 30,
   "id": "31b30c6e",
   "metadata": {},
   "outputs": [
    {
     "name": "stdout",
     "output_type": "stream",
     "text": [
      "!!!! old model results with old preprocessing!!!!\n",
      "----- Bleu-n Scores -----\n",
      "1: 9.197\n",
      "2: 0.000\n",
      "3: 0.000\n",
      "4: 0.000\n",
      "-------------------------\n"
     ]
    },
    {
     "data": {
      "text/plain": [
       "([['الناس', 'يعبرون', 'الشارع', 'في', 'بلدة', 'صينية', 'مزدحمة', '.'],\n",
       "  ['شخص', 'يحمل', 'مظلة', 'صفراء', 'يمشي', 'بالقرب', 'من', 'الرصيف', '.'],\n",
       "  ['شخص', 'في', 'الشارع', 'يجر', 'عربة', 'تسوق', 'ويحمل', 'مظلة', '.'],\n",
       "  ['امرأة', 'في', 'شارع', 'مزدحم', 'مع', 'عربة', 'تسوق', 'ومظلة', '.'],\n",
       "  ['أشخاص', 'يسيرون', 'وسيارات', 'تسير', 'في', 'شارع', 'بجوار', 'متاجر']],\n",
       " ['رجل', 'يرتدي', 'سترة', 'صفراء'])"
      ]
     },
     "execution_count": 30,
     "metadata": {},
     "output_type": "execute_result"
    }
   ],
   "source": [
    "print(\"!!!! old model with old preprocessing!!!!\")\n",
    "_,_,_,_ = print_scores([old_tokens_truth], [old_hypo_with_old], prnt=True)\n",
    "old_tokens_truth, row[\"old_hypotheses\"]"
   ]
  },
  {
   "cell_type": "code",
   "execution_count": 33,
   "id": "fd2de1c8",
   "metadata": {
    "scrolled": true
   },
   "outputs": [
    {
     "name": "stdout",
     "output_type": "stream",
     "text": [
      "!!!! old model results with arabert preprocessing !!!!\n",
      "----- Bleu-n Scores -----\n",
      "1: 9.444\n",
      "2: 8.447\n",
      "3: 6.958\n",
      "4: 0.000\n",
      "-------------------------\n"
     ]
    },
    {
     "data": {
      "text/plain": [
       "([['ال',\n",
       "   '+',\n",
       "   'ناس',\n",
       "   'يعبر',\n",
       "   '+',\n",
       "   'ون',\n",
       "   'ال',\n",
       "   '+',\n",
       "   'شارع',\n",
       "   'في',\n",
       "   'بلد',\n",
       "   '+',\n",
       "   'ة',\n",
       "   'صيني',\n",
       "   '+',\n",
       "   'ة',\n",
       "   'مزدحم',\n",
       "   '+',\n",
       "   'ة',\n",
       "   '.'],\n",
       "  ['شخص',\n",
       "   'يحمل',\n",
       "   'مظل',\n",
       "   '+',\n",
       "   'ة',\n",
       "   'صفراء',\n",
       "   'يمشي',\n",
       "   'ب',\n",
       "   '+',\n",
       "   'ال',\n",
       "   '+',\n",
       "   'قرب',\n",
       "   'من',\n",
       "   'ال',\n",
       "   '+',\n",
       "   'رصيف',\n",
       "   '.'],\n",
       "  ['شخص',\n",
       "   'في',\n",
       "   'ال',\n",
       "   '+',\n",
       "   'شارع',\n",
       "   'يجر',\n",
       "   'عرب',\n",
       "   '+',\n",
       "   'ة',\n",
       "   'تسوق',\n",
       "   'و',\n",
       "   '+',\n",
       "   'يحمل',\n",
       "   'مظل',\n",
       "   '+',\n",
       "   'ة',\n",
       "   '.'],\n",
       "  ['امرأ',\n",
       "   '+',\n",
       "   'ة',\n",
       "   'في',\n",
       "   'شارع',\n",
       "   'مزدحم',\n",
       "   'مع',\n",
       "   'عرب',\n",
       "   '+',\n",
       "   'ة',\n",
       "   'تسوق',\n",
       "   'و',\n",
       "   '+',\n",
       "   'مظل',\n",
       "   '+',\n",
       "   'ة',\n",
       "   '.'],\n",
       "  ['أشخاص',\n",
       "   'يسير',\n",
       "   '+',\n",
       "   'ون',\n",
       "   'و',\n",
       "   '+',\n",
       "   'سيار',\n",
       "   '+',\n",
       "   'ات',\n",
       "   'تسير',\n",
       "   'في',\n",
       "   'شارع',\n",
       "   'ب',\n",
       "   '+',\n",
       "   'جوار',\n",
       "   'متاجر']],\n",
       " ['رجل', 'يرتدي', 'ستر', '+', 'ة', 'صفراء'])"
      ]
     },
     "execution_count": 33,
     "metadata": {},
     "output_type": "execute_result"
    }
   ],
   "source": [
    "print(\"!!!! old model with arabert preprocessing !!!!\")\n",
    "_,_,_,_ = print_scores([ara_tokens_truth], [old_hypo_with_ara], prnt=True)\n",
    "ara_tokens_truth, old_hypo_with_ara"
   ]
  },
  {
   "cell_type": "code",
   "execution_count": 37,
   "id": "f5845953",
   "metadata": {},
   "outputs": [
    {
     "name": "stdout",
     "output_type": "stream",
     "text": [
      "!!!! new model with old preprocessing !!!!\n",
      "----- Bleu-n Scores -----\n",
      "1: 18.888\n",
      "2: 18.888\n",
      "3: 0.000\n",
      "4: 0.000\n",
      "-------------------------\n"
     ]
    },
    {
     "data": {
      "text/plain": [
       "([['الناس', 'يعبرون', 'الشارع', 'في', 'بلدة', 'صينية', 'مزدحمة', '.'],\n",
       "  ['شخص', 'يحمل', 'مظلة', 'صفراء', 'يمشي', 'بالقرب', 'من', 'الرصيف', '.'],\n",
       "  ['شخص', 'في', 'الشارع', 'يجر', 'عربة', 'تسوق', 'ويحمل', 'مظلة', '.'],\n",
       "  ['امرأة', 'في', 'شارع', 'مزدحم', 'مع', 'عربة', 'تسوق', 'ومظلة', '.'],\n",
       "  ['أشخاص', 'يسيرون', 'وسيارات', 'تسير', 'في', 'شارع', 'بجوار', 'متاجر']],\n",
       " ['امرأة', 'في', 'الشارع'])"
      ]
     },
     "execution_count": 37,
     "metadata": {},
     "output_type": "execute_result"
    }
   ],
   "source": [
    "print(\"!!!! new model with old preprocessing !!!!\")\n",
    "_,_,_,_ = print_scores([old_tokens_truth], [ara_hypo_with_old], prnt=True)\n",
    "old_tokens_truth, ara_hypo_with_old"
   ]
  },
  {
   "cell_type": "code",
   "execution_count": 38,
   "id": "38c9ce5d",
   "metadata": {},
   "outputs": [
    {
     "name": "stdout",
     "output_type": "stream",
     "text": [
      "!!!! new model with arabert preprcessing !!!!\n",
      "----- Bleu-n Scores -----\n",
      "1: 27.645\n",
      "2: 27.645\n",
      "3: 25.664\n",
      "4: 21.986\n",
      "-------------------------\n"
     ]
    },
    {
     "data": {
      "text/plain": [
       "([['ال',\n",
       "   '+',\n",
       "   'ناس',\n",
       "   'يعبر',\n",
       "   '+',\n",
       "   'ون',\n",
       "   'ال',\n",
       "   '+',\n",
       "   'شارع',\n",
       "   'في',\n",
       "   'بلد',\n",
       "   '+',\n",
       "   'ة',\n",
       "   'صيني',\n",
       "   '+',\n",
       "   'ة',\n",
       "   'مزدحم',\n",
       "   '+',\n",
       "   'ة',\n",
       "   '.'],\n",
       "  ['شخص',\n",
       "   'يحمل',\n",
       "   'مظل',\n",
       "   '+',\n",
       "   'ة',\n",
       "   'صفراء',\n",
       "   'يمشي',\n",
       "   'ب',\n",
       "   '+',\n",
       "   'ال',\n",
       "   '+',\n",
       "   'قرب',\n",
       "   'من',\n",
       "   'ال',\n",
       "   '+',\n",
       "   'رصيف',\n",
       "   '.'],\n",
       "  ['شخص',\n",
       "   'في',\n",
       "   'ال',\n",
       "   '+',\n",
       "   'شارع',\n",
       "   'يجر',\n",
       "   'عرب',\n",
       "   '+',\n",
       "   'ة',\n",
       "   'تسوق',\n",
       "   'و',\n",
       "   '+',\n",
       "   'يحمل',\n",
       "   'مظل',\n",
       "   '+',\n",
       "   'ة',\n",
       "   '.'],\n",
       "  ['امرأ',\n",
       "   '+',\n",
       "   'ة',\n",
       "   'في',\n",
       "   'شارع',\n",
       "   'مزدحم',\n",
       "   'مع',\n",
       "   'عرب',\n",
       "   '+',\n",
       "   'ة',\n",
       "   'تسوق',\n",
       "   'و',\n",
       "   '+',\n",
       "   'مظل',\n",
       "   '+',\n",
       "   'ة',\n",
       "   '.'],\n",
       "  ['أشخاص',\n",
       "   'يسير',\n",
       "   '+',\n",
       "   'ون',\n",
       "   'و',\n",
       "   '+',\n",
       "   'سيار',\n",
       "   '+',\n",
       "   'ات',\n",
       "   'تسير',\n",
       "   'في',\n",
       "   'شارع',\n",
       "   'ب',\n",
       "   '+',\n",
       "   'جوار',\n",
       "   'متاجر']],\n",
       " ['امرأ', '+', 'ة', 'في', 'ال', '+', 'شارع'])"
      ]
     },
     "execution_count": 38,
     "metadata": {},
     "output_type": "execute_result"
    }
   ],
   "source": [
    "print(\"!!!! new model with arabert preprcessing !!!!\")\n",
    "_,_,_,_ = print_scores([ara_tokens_truth], [ara_hypo_with_ara], prnt=True)\n",
    "ara_tokens_truth, ara_hypo_with_ara"
   ]
  }
 ],
 "metadata": {
  "kernelspec": {
   "display_name": "Python 3",
   "language": "python",
   "name": "python3"
  },
  "language_info": {
   "codemirror_mode": {
    "name": "ipython",
    "version": 3
   },
   "file_extension": ".py",
   "mimetype": "text/x-python",
   "name": "python",
   "nbconvert_exporter": "python",
   "pygments_lexer": "ipython3",
   "version": "3.8.8"
  }
 },
 "nbformat": 4,
 "nbformat_minor": 5
}
